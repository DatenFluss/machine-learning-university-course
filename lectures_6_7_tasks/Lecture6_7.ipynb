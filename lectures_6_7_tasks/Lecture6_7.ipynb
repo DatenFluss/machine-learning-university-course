{
  "nbformat": 4,
  "nbformat_minor": 0,
  "metadata": {
    "colab": {
      "provenance": []
    },
    "kernelspec": {
      "name": "python3",
      "display_name": "Python 3"
    },
    "language_info": {
      "name": "python"
    }
  },
  "cells": [
    {
      "cell_type": "markdown",
      "source": [
        "# Tasks for lectures 6-7\n",
        "Build a feedforward neural network for font recognition based on the given datasets(excluded three large files with size > 100 MB as of limitations of github storage)."
      ],
      "metadata": {
        "id": "nU52HGurVT7i"
      }
    },
    {
      "cell_type": "markdown",
      "source": [
        "Step 0: import necessary libraries"
      ],
      "metadata": {
        "id": "WFaUU77IVeuf"
      }
    },
    {
      "cell_type": "code",
      "source": [
        "import pandas as pd\n",
        "import numpy as np\n",
        "import requests\n",
        "import matplotlib.pyplot as plt\n",
        "from sklearn.preprocessing import LabelEncoder\n",
        "from sklearn.model_selection import train_test_split\n",
        "from tensorflow.keras.models import Sequential\n",
        "from tensorflow.keras.layers import Dense\n",
        "from tensorflow.keras.utils import to_categorical\n",
        "from tensorflow.keras.callbacks import EarlyStopping\n",
        "from tensorflow.keras.layers import Dropout"
      ],
      "metadata": {
        "id": "wVcmofyXVjGH"
      },
      "execution_count": null,
      "outputs": []
    },
    {
      "cell_type": "markdown",
      "source": [
        "Step 1: fetch fonts csv urls from github api"
      ],
      "metadata": {
        "id": "ZUXye2rRVmCa"
      }
    },
    {
      "cell_type": "code",
      "source": [
        "api_url = 'https://api.github.com/repos/DatenFluss/machine-learning-university-course/contents/res/fonts'\n",
        "response = requests.get(api_url)\n",
        "contents = response.json()"
      ],
      "metadata": {
        "id": "X4o_BRpiVleB"
      },
      "execution_count": null,
      "outputs": []
    },
    {
      "cell_type": "markdown",
      "source": [
        "Step 2: extract url's of the csv files"
      ],
      "metadata": {
        "id": "TsIgFGT5Vw4-"
      }
    },
    {
      "cell_type": "code",
      "source": [
        "csv_urls = []\n",
        "for item in contents:\n",
        "    if item['name'].endswith('.csv'):\n",
        "        raw_url = item['download_url']\n",
        "        csv_urls.append(raw_url)"
      ],
      "metadata": {
        "id": "t_89IGCIV5SB"
      },
      "execution_count": null,
      "outputs": []
    },
    {
      "cell_type": "markdown",
      "source": [
        "Step 3: load and combine the csv files"
      ],
      "metadata": {
        "id": "RtcDI5x3V6l9"
      }
    },
    {
      "cell_type": "code",
      "source": [
        "dataframes = []\n",
        "for url in csv_urls:\n",
        "    df = pd.read_csv(url)\n",
        "    dataframes.append(df)\n",
        "\n",
        "data = pd.concat(dataframes, ignore_index=True)"
      ],
      "metadata": {
        "id": "ois71uEMV_Fb"
      },
      "execution_count": null,
      "outputs": []
    },
    {
      "cell_type": "markdown",
      "source": [
        "Step 4: verify the data"
      ],
      "metadata": {
        "id": "r2pbxgXuWBr_"
      }
    },
    {
      "cell_type": "code",
      "source": [
        "print(data.head())\n",
        "print('Combined data shape:', data.shape)"
      ],
      "metadata": {
        "colab": {
          "base_uri": "https://localhost:8080/"
        },
        "id": "z6FfcIcPWFC2",
        "outputId": "1761f4c8-4489-48ed-fd8b-164155013645"
      },
      "execution_count": null,
      "outputs": [
        {
          "output_type": "stream",
          "name": "stdout",
          "text": [
            "     font fontVariant  m_label  strength  italic  orientation  m_top  m_left  \\\n",
            "0  AGENCY   AGENCY FB    64258       0.4       0          0.0     35      21   \n",
            "1  AGENCY   AGENCY FB    64257       0.4       0          0.0     35      21   \n",
            "2  AGENCY   AGENCY FB    61442       0.4       0          0.0     35      21   \n",
            "3  AGENCY   AGENCY FB    61441       0.4       0          0.0     35      21   \n",
            "4  AGENCY   AGENCY FB     9674       0.4       0          0.0     51      21   \n",
            "\n",
            "   originalH  originalW  ...  r19c10  r19c11  r19c12  r19c13  r19c14  r19c15  \\\n",
            "0         51         22  ...       1       1       1       1       1       1   \n",
            "1         51         22  ...       1       1       1       1       1       1   \n",
            "2         51         22  ...       1       1       1       1       1       1   \n",
            "3         51         22  ...       1       1       1       1       1       1   \n",
            "4         33         25  ...     255     132       1       1       1       1   \n",
            "\n",
            "   r19c16  r19c17  r19c18  r19c19  \n",
            "0     163     255     255     255  \n",
            "1     163     255     255     255  \n",
            "2     163     255     255     255  \n",
            "3     163     255     255     255  \n",
            "4       1       1       1       1  \n",
            "\n",
            "[5 rows x 412 columns]\n",
            "Combined data shape: (524243, 412)\n"
          ]
        }
      ]
    },
    {
      "cell_type": "markdown",
      "source": [
        "Step 5: preprocess the data"
      ],
      "metadata": {
        "id": "aFblpd4eWIKk"
      }
    },
    {
      "cell_type": "code",
      "source": [
        "pixel_columns = ['r{}c{}'.format(r, c) for r in range(20) for c in range(20)]\n",
        "X = data[pixel_columns].values\n",
        "y = data['font'].values"
      ],
      "metadata": {
        "id": "tlFdvZg2WLOY"
      },
      "execution_count": null,
      "outputs": []
    },
    {
      "cell_type": "markdown",
      "source": [
        "Step 6: encode the labels"
      ],
      "metadata": {
        "id": "BmG8QedRWOAF"
      }
    },
    {
      "cell_type": "code",
      "source": [
        "label_encoder = LabelEncoder()\n",
        "y_encoded = label_encoder.fit_transform(y)\n",
        "num_classes = len(np.unique(y_encoded))\n",
        "y_categorical = to_categorical(y_encoded, num_classes)"
      ],
      "metadata": {
        "id": "yIFjYKOGWQ1c"
      },
      "execution_count": null,
      "outputs": []
    },
    {
      "cell_type": "markdown",
      "source": [
        "Step 7: normalize pixel data"
      ],
      "metadata": {
        "id": "SFHJ2axDWTbu"
      }
    },
    {
      "cell_type": "code",
      "source": [
        "X = X / 255.0"
      ],
      "metadata": {
        "id": "gUcbfbBKWWt-"
      },
      "execution_count": null,
      "outputs": []
    },
    {
      "cell_type": "markdown",
      "source": [
        "Step 8: Split the data"
      ],
      "metadata": {
        "id": "pmE3_o9rWZEU"
      }
    },
    {
      "cell_type": "code",
      "source": [
        "X_train, X_test, y_train, y_test = train_test_split(\n",
        "    X, y_categorical, test_size=0.2, random_state=42, stratify=y_categorical)"
      ],
      "metadata": {
        "id": "j5CeWyPTWwXH"
      },
      "execution_count": null,
      "outputs": []
    },
    {
      "cell_type": "markdown",
      "source": [
        "Step 9: Build the model for a feedforward neural network.\n",
        "\n",
        "Additional possible improvements:\n",
        "Dropout Layers: Prevent overfitting by randomly dropping neurons during training.\n",
        "L2 Regularization: Penalize large weights to encourage simpler models."
      ],
      "metadata": {
        "id": "N800OB6IW37p"
      }
    },
    {
      "cell_type": "code",
      "source": [
        "model = Sequential()\n",
        "model.add(Dense(256, input_dim=400, activation='relu'))\n",
        "model.add(Dense(128, activation='relu'))\n",
        "model.add(Dense(num_classes, activation='softmax'))"
      ],
      "metadata": {
        "colab": {
          "base_uri": "https://localhost:8080/"
        },
        "id": "JfJSWE19W6jN",
        "outputId": "c0fa9515-9279-47ac-b7d4-6bd23e08f360"
      },
      "execution_count": null,
      "outputs": [
        {
          "output_type": "stream",
          "name": "stderr",
          "text": [
            "/usr/local/lib/python3.10/dist-packages/keras/src/layers/core/dense.py:87: UserWarning: Do not pass an `input_shape`/`input_dim` argument to a layer. When using Sequential models, prefer using an `Input(shape)` object as the first layer in the model instead.\n",
            "  super().__init__(activity_regularizer=activity_regularizer, **kwargs)\n"
          ]
        }
      ]
    },
    {
      "cell_type": "markdown",
      "source": [
        "Step 9: Compile the model"
      ],
      "metadata": {
        "id": "trJ0XsZxW9Sg"
      }
    },
    {
      "cell_type": "code",
      "source": [
        "model.compile(\n",
        "    loss='categorical_crossentropy',\n",
        "    optimizer='adam',\n",
        "    metrics=['accuracy']\n",
        ")"
      ],
      "metadata": {
        "id": "qKCB-8vsXDyV"
      },
      "execution_count": null,
      "outputs": []
    },
    {
      "cell_type": "markdown",
      "source": [
        "Step 10: Train the model"
      ],
      "metadata": {
        "id": "FywmP7lcXDGg"
      }
    },
    {
      "cell_type": "code",
      "source": [
        "history = model.fit(\n",
        "    X_train, y_train,\n",
        "    epochs=20,\n",
        "    batch_size=64,\n",
        "    validation_data=(X_test, y_test)\n",
        ")"
      ],
      "metadata": {
        "colab": {
          "base_uri": "https://localhost:8080/"
        },
        "id": "p2ZP8eMNXKXS",
        "outputId": "95445118-8b21-4253-ebf9-e61425437c30"
      },
      "execution_count": null,
      "outputs": [
        {
          "output_type": "stream",
          "name": "stdout",
          "text": [
            "Epoch 1/20\n",
            "\u001b[1m6554/6554\u001b[0m \u001b[32m━━━━━━━━━━━━━━━━━━━━\u001b[0m\u001b[37m\u001b[0m \u001b[1m42s\u001b[0m 6ms/step - accuracy: 0.2267 - loss: 3.5198 - val_accuracy: 0.3241 - val_loss: 2.8343\n",
            "Epoch 2/20\n",
            "\u001b[1m6554/6554\u001b[0m \u001b[32m━━━━━━━━━━━━━━━━━━━━\u001b[0m\u001b[37m\u001b[0m \u001b[1m38s\u001b[0m 6ms/step - accuracy: 0.3442 - loss: 2.7278 - val_accuracy: 0.3635 - val_loss: 2.6227\n",
            "Epoch 3/20\n",
            "\u001b[1m6554/6554\u001b[0m \u001b[32m━━━━━━━━━━━━━━━━━━━━\u001b[0m\u001b[37m\u001b[0m \u001b[1m35s\u001b[0m 5ms/step - accuracy: 0.3828 - loss: 2.5076 - val_accuracy: 0.3801 - val_loss: 2.5252\n",
            "Epoch 4/20\n",
            "\u001b[1m6554/6554\u001b[0m \u001b[32m━━━━━━━━━━━━━━━━━━━━\u001b[0m\u001b[37m\u001b[0m \u001b[1m40s\u001b[0m 5ms/step - accuracy: 0.4038 - loss: 2.3938 - val_accuracy: 0.3930 - val_loss: 2.4596\n",
            "Epoch 5/20\n",
            "\u001b[1m6554/6554\u001b[0m \u001b[32m━━━━━━━━━━━━━━━━━━━━\u001b[0m\u001b[37m\u001b[0m \u001b[1m44s\u001b[0m 6ms/step - accuracy: 0.4185 - loss: 2.3136 - val_accuracy: 0.4035 - val_loss: 2.4092\n",
            "Epoch 6/20\n",
            "\u001b[1m6554/6554\u001b[0m \u001b[32m━━━━━━━━━━━━━━━━━━━━\u001b[0m\u001b[37m\u001b[0m \u001b[1m42s\u001b[0m 6ms/step - accuracy: 0.4303 - loss: 2.2545 - val_accuracy: 0.4058 - val_loss: 2.3950\n",
            "Epoch 7/20\n",
            "\u001b[1m6554/6554\u001b[0m \u001b[32m━━━━━━━━━━━━━━━━━━━━\u001b[0m\u001b[37m\u001b[0m \u001b[1m35s\u001b[0m 5ms/step - accuracy: 0.4376 - loss: 2.2150 - val_accuracy: 0.4150 - val_loss: 2.3673\n",
            "Epoch 8/20\n",
            "\u001b[1m6554/6554\u001b[0m \u001b[32m━━━━━━━━━━━━━━━━━━━━\u001b[0m\u001b[37m\u001b[0m \u001b[1m40s\u001b[0m 6ms/step - accuracy: 0.4445 - loss: 2.1798 - val_accuracy: 0.4174 - val_loss: 2.3597\n",
            "Epoch 9/20\n",
            "\u001b[1m6554/6554\u001b[0m \u001b[32m━━━━━━━━━━━━━━━━━━━━\u001b[0m\u001b[37m\u001b[0m \u001b[1m37s\u001b[0m 6ms/step - accuracy: 0.4491 - loss: 2.1568 - val_accuracy: 0.4197 - val_loss: 2.3470\n",
            "Epoch 10/20\n",
            "\u001b[1m6554/6554\u001b[0m \u001b[32m━━━━━━━━━━━━━━━━━━━━\u001b[0m\u001b[37m\u001b[0m \u001b[1m42s\u001b[0m 6ms/step - accuracy: 0.4574 - loss: 2.1237 - val_accuracy: 0.4242 - val_loss: 2.3282\n",
            "Epoch 11/20\n",
            "\u001b[1m6554/6554\u001b[0m \u001b[32m━━━━━━━━━━━━━━━━━━━━\u001b[0m\u001b[37m\u001b[0m \u001b[1m40s\u001b[0m 6ms/step - accuracy: 0.4599 - loss: 2.1068 - val_accuracy: 0.4271 - val_loss: 2.3055\n",
            "Epoch 12/20\n",
            "\u001b[1m6554/6554\u001b[0m \u001b[32m━━━━━━━━━━━━━━━━━━━━\u001b[0m\u001b[37m\u001b[0m \u001b[1m45s\u001b[0m 6ms/step - accuracy: 0.4636 - loss: 2.0931 - val_accuracy: 0.4277 - val_loss: 2.3166\n",
            "Epoch 13/20\n",
            "\u001b[1m6554/6554\u001b[0m \u001b[32m━━━━━━━━━━━━━━━━━━━━\u001b[0m\u001b[37m\u001b[0m \u001b[1m41s\u001b[0m 6ms/step - accuracy: 0.4667 - loss: 2.0723 - val_accuracy: 0.4264 - val_loss: 2.3410\n",
            "Epoch 14/20\n",
            "\u001b[1m6554/6554\u001b[0m \u001b[32m━━━━━━━━━━━━━━━━━━━━\u001b[0m\u001b[37m\u001b[0m \u001b[1m39s\u001b[0m 6ms/step - accuracy: 0.4693 - loss: 2.0634 - val_accuracy: 0.4273 - val_loss: 2.3057\n",
            "Epoch 15/20\n",
            "\u001b[1m6554/6554\u001b[0m \u001b[32m━━━━━━━━━━━━━━━━━━━━\u001b[0m\u001b[37m\u001b[0m \u001b[1m38s\u001b[0m 5ms/step - accuracy: 0.4725 - loss: 2.0481 - val_accuracy: 0.4327 - val_loss: 2.3016\n",
            "Epoch 16/20\n",
            "\u001b[1m6554/6554\u001b[0m \u001b[32m━━━━━━━━━━━━━━━━━━━━\u001b[0m\u001b[37m\u001b[0m \u001b[1m39s\u001b[0m 6ms/step - accuracy: 0.4760 - loss: 2.0331 - val_accuracy: 0.4348 - val_loss: 2.3021\n",
            "Epoch 17/20\n",
            "\u001b[1m6554/6554\u001b[0m \u001b[32m━━━━━━━━━━━━━━━━━━━━\u001b[0m\u001b[37m\u001b[0m \u001b[1m50s\u001b[0m 7ms/step - accuracy: 0.4770 - loss: 2.0258 - val_accuracy: 0.4305 - val_loss: 2.3025\n",
            "Epoch 18/20\n",
            "\u001b[1m6554/6554\u001b[0m \u001b[32m━━━━━━━━━━━━━━━━━━━━\u001b[0m\u001b[37m\u001b[0m \u001b[1m45s\u001b[0m 7ms/step - accuracy: 0.4786 - loss: 2.0169 - val_accuracy: 0.4335 - val_loss: 2.2983\n",
            "Epoch 19/20\n",
            "\u001b[1m6554/6554\u001b[0m \u001b[32m━━━━━━━━━━━━━━━━━━━━\u001b[0m\u001b[37m\u001b[0m \u001b[1m44s\u001b[0m 7ms/step - accuracy: 0.4816 - loss: 2.0064 - val_accuracy: 0.4363 - val_loss: 2.2932\n",
            "Epoch 20/20\n",
            "\u001b[1m6554/6554\u001b[0m \u001b[32m━━━━━━━━━━━━━━━━━━━━\u001b[0m\u001b[37m\u001b[0m \u001b[1m76s\u001b[0m 6ms/step - accuracy: 0.4843 - loss: 1.9922 - val_accuracy: 0.4321 - val_loss: 2.3098\n"
          ]
        }
      ]
    },
    {
      "cell_type": "markdown",
      "source": [
        "Step 11: Evaluate the model"
      ],
      "metadata": {
        "id": "5G2vkMRiXMKm"
      }
    },
    {
      "cell_type": "code",
      "source": [
        "# Evaluate the model\n",
        "loss, accuracy = model.evaluate(X_test, y_test)\n",
        "print('Test accuracy:', accuracy)"
      ],
      "metadata": {
        "colab": {
          "base_uri": "https://localhost:8080/"
        },
        "id": "IFe1ToaqPKel",
        "outputId": "e149327c-6627-4bbb-9776-5d24352e8516"
      },
      "execution_count": null,
      "outputs": [
        {
          "output_type": "stream",
          "name": "stdout",
          "text": [
            "\u001b[1m3277/3277\u001b[0m \u001b[32m━━━━━━━━━━━━━━━━━━━━\u001b[0m\u001b[37m\u001b[0m \u001b[1m7s\u001b[0m 2ms/step - accuracy: 0.4319 - loss: 2.3212\n",
            "Test accuracy: 0.4320785105228424\n"
          ]
        }
      ]
    },
    {
      "cell_type": "code",
      "source": [
        "# Plot training & validation accuracy values\n",
        "plt.figure(figsize=(10, 5))\n",
        "plt.plot(history.history['accuracy'], label='Train')\n",
        "plt.plot(history.history['val_accuracy'], label='Validation')\n",
        "plt.title('Model accuracy')\n",
        "plt.ylabel('Accuracy')\n",
        "plt.xlabel('Epoch')\n",
        "plt.legend(loc='upper left')\n",
        "plt.show()"
      ],
      "metadata": {
        "colab": {
          "base_uri": "https://localhost:8080/",
          "height": 487
        },
        "id": "dcvgKHO0XPRx",
        "outputId": "7547a350-412d-4607-e18e-9471d20191ae"
      },
      "execution_count": null,
      "outputs": [
        {
          "output_type": "display_data",
          "data": {
            "text/plain": [
              "<Figure size 1000x500 with 1 Axes>"
            ],
            "image/png": "[encoded data removed]"
          },
          "metadata": {}
        }
      ]
    },
    {
      "cell_type": "code",
      "source": [
        "# Plot training & validation loss values\n",
        "plt.figure(figsize=(10, 5))\n",
        "plt.plot(history.history['loss'], label='Train')\n",
        "plt.plot(history.history['val_loss'], label='Validation')\n",
        "plt.title('Model loss')\n",
        "plt.ylabel('Loss')\n",
        "plt.xlabel('Epoch')\n",
        "plt.legend(loc='upper right')\n",
        "plt.show()"
      ],
      "metadata": {
        "colab": {
          "base_uri": "https://localhost:8080/",
          "height": 487
        },
        "id": "F6xH-dV0jXlF",
        "outputId": "fbbb04c4-7400-468b-8eeb-7a701361de21"
      },
      "execution_count": null,
      "outputs": [
        {
          "output_type": "display_data",
          "data": {
            "text/plain": [
              "<Figure size 1000x500 with 1 Axes>"
            ],
            "image/png": "[encoded data removed]"
          },
          "metadata": {}
        }
      ]
    },
    {
      "cell_type": "markdown",
      "source": [
        "Limited results are achieved because of the usage of feedforward neural network, can be improved with convolutional neural network"
      ],
      "metadata": {
        "id": "4DcaSzNZCaaX"
      }
    }
  ]
}